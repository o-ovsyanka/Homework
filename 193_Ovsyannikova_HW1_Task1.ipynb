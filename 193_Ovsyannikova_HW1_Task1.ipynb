{
 "cells": [
  {
   "cell_type": "code",
   "execution_count": 1,
   "metadata": {},
   "outputs": [
    {
     "name": "stdout",
     "output_type": "stream",
     "text": [
      "0.760210472720163\n",
      "0.04689820195675065\n",
      "0.10101010101010101\n",
      "0.00101010101010101\n"
     ]
    }
   ],
   "source": [
    "#I_n = 1/n - a(I_n-1)\n",
    "#I_0 = log(1 + 1/a)\n",
    "#forward recursion\n",
    "import numpy as np\n",
    "def rec(a):\n",
    "    n=0\n",
    "    I=np.log(1+1/a)\n",
    "    while n<=27:\n",
    "        n=n+1\n",
    "        I=1/n - a*I\n",
    "        return(I)\n",
    "print(rec(0.1))\n",
    "print(rec(10))\n",
    "#reserve recursion\n",
    "def rec(a):\n",
    "    n=100\n",
    "    I=0\n",
    "    while n>=27:\n",
    "        n=n-1\n",
    "        I=(1/n-I)/a\n",
    "        return(I)\n",
    "print(rec(0.1))\n",
    "print(rec(10))\n"
   ]
  },
  {
   "cell_type": "code",
   "execution_count": null,
   "metadata": {},
   "outputs": [],
   "source": []
  }
 ],
 "metadata": {
  "kernelspec": {
   "display_name": "Python 3",
   "language": "python",
   "name": "python3"
  },
  "language_info": {
   "codemirror_mode": {
    "name": "ipython",
    "version": 3
   },
   "file_extension": ".py",
   "mimetype": "text/x-python",
   "name": "python",
   "nbconvert_exporter": "python",
   "pygments_lexer": "ipython3",
   "version": "3.7.4"
  }
 },
 "nbformat": 4,
 "nbformat_minor": 2
}
