{
 "cells": [
  {
   "cell_type": "code",
   "execution_count": null,
   "metadata": {},
   "outputs": [],
   "source": [
    "import math\n",
    "def round_to_n(x, n):\n",
    "    if x == 0:\n",
    "        return x\n",
    "    else:\n",
    "        return round(x, -int(math.floor(math.log10(abs(x)))) + (n - 1))\n",
    "res = 0\n",
    "for k in range(3001, 0, -1):\n",
    "    res = round_to_n(res + 1/k**2, 5)\n",
    "print(res)\n",
    "#проблема заключалась в том, что сумирование производилось с большой погрешностью, так как начальные члены (самые большие соответственно), округляясь, не вносили должного вклада."
   ]
  }
 ],
 "metadata": {
  "kernelspec": {
   "display_name": "Python 3",
   "language": "python",
   "name": "python3"
  },
  "language_info": {
   "codemirror_mode": {
    "name": "ipython",
    "version": 3
   },
   "file_extension": ".py",
   "mimetype": "text/x-python",
   "name": "python",
   "nbconvert_exporter": "python",
   "pygments_lexer": "ipython3",
   "version": "3.7.4"
  }
 },
 "nbformat": 4,
 "nbformat_minor": 2
}
